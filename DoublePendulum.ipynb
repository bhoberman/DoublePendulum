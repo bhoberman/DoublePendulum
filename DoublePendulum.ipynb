{
 "cells": [
  {
   "cell_type": "code",
   "execution_count": 2,
   "metadata": {
    "collapsed": false,
    "deletable": true,
    "editable": true
   },
   "outputs": [],
   "source": [
    "t = var('t')\n",
    "l1 = var('l_1')\n",
    "l2 = var('l_2')\n",
    "m1 = var('m_1')\n",
    "m2 = var('m_2')\n",
    "g = var('g')\n",
    "theta1 = var('t1', latex_name=r'\\theta_1')\n",
    "theta2 = var('t2', latex_name=r'\\theta_2')\n",
    "theta1d = var('t1d', latex_name=r'\\dot{\\theta_1}')\n",
    "theta2d = var('t2d', latex_name=r'\\dot{\\theta_2}')\n",
    "theta1dd = var('t1dd', latex_name=r'\\ddot{\\theta_1}')\n",
    "theta2dd = var('t2dd', latex_name=r'\\ddot{\\theta_2}')\n",
    "\n",
    "theta1f = function('theta_1', latex_name=r'\\theta_1')(t)\n",
    "theta2f = function('theta_2', latex_name=r'\\theta_1')(t)\n",
    "\n",
    "from sage.symbolic.substitution_map import make_map\n",
    "themap = make_map({\n",
    "    theta1: theta1f,\n",
    "    theta2: theta2f,\n",
    "    theta1d: diff(theta1f, t),\n",
    "    theta2d: diff(theta2f, t),\n",
    "    theta1dd: diff(diff(theta1f, t), t),\n",
    "    theta2dd: diff(diff(theta2f, t), t)\n",
    "})\n",
    "\n",
    "reversemap = make_map({\n",
    "    theta1f: theta1,\n",
    "    theta2f: theta2,\n",
    "    diff(theta1f, t): theta1d,\n",
    "    diff(theta2f, t): theta2d,\n",
    "    diff(diff(theta1f, t), t): theta1dd,\n",
    "    diff(diff(theta2f, t), t): theta2dd\n",
    "})"
   ]
  },
  {
   "cell_type": "code",
   "execution_count": 17,
   "metadata": {
    "collapsed": false,
    "deletable": true,
    "editable": true,
    "scrolled": false
   },
   "outputs": [
    {
     "name": "stdout",
     "output_type": "stream",
     "text": [
      "{\\ddot{\\theta_1}} = \\frac{3 \\, {\\left(l_{1} m_{2} {\\dot{\\theta_1}}^{2} \\cos\\left({\\theta_1}\\right) \\sin\\left({\\theta_1}\\right) + 2 \\, {\\left(l_{2} m_{2} \\cos\\left({\\theta_2}\\right) \\sin\\left({\\theta_1}\\right) - l_{2} m_{2} \\cos\\left({\\theta_1}\\right) \\sin\\left({\\theta_2}\\right)\\right)} {\\dot{\\theta_2}}^{2} - {\\left({\\left(2 \\, l_{1} m_{2} \\cos\\left({\\theta_1}\\right)^{2} - l_{1} m_{2}\\right)} {\\dot{\\theta_1}}^{2} + g m_{2} \\cos\\left({\\theta_1}\\right)\\right)} \\cos\\left({\\theta_2}\\right) \\sin\\left({\\theta_2}\\right) - {\\left(2 \\, l_{1} m_{2} {\\dot{\\theta_1}}^{2} \\cos\\left({\\theta_1}\\right) \\sin\\left({\\theta_1}\\right) + g m_{2} \\sin\\left({\\theta_1}\\right)\\right)} \\sin\\left({\\theta_2}\\right)^{2} + 2 \\, {\\left(g m_{1} + 2 \\, g m_{2}\\right)} \\sin\\left({\\theta_1}\\right)\\right)}}{6 \\, l_{1} m_{2} \\cos\\left({\\theta_1}\\right) \\cos\\left({\\theta_2}\\right) \\sin\\left({\\theta_1}\\right) \\sin\\left({\\theta_2}\\right) + 3 \\, l_{1} m_{2} \\cos\\left({\\theta_1}\\right)^{2} - 3 \\, {\\left(2 \\, l_{1} m_{2} \\cos\\left({\\theta_1}\\right)^{2} - l_{1} m_{2}\\right)} \\sin\\left({\\theta_2}\\right)^{2} - 4 \\, l_{1} m_{1} - 12 \\, l_{1} m_{2}}\n",
      "{\\ddot{\\theta_2}} = -\\frac{3 \\, {\\left(2 \\, l_{2} m_{2} \\cos\\left({\\theta_1}\\right) \\cos\\left({\\theta_2}\\right)^{2} \\sin\\left({\\theta_1}\\right) - l_{2} m_{2} \\cos\\left({\\theta_1}\\right) \\sin\\left({\\theta_1}\\right) - {\\left(2 \\, l_{2} m_{2} \\cos\\left({\\theta_1}\\right)^{2} - l_{2} m_{2}\\right)} \\cos\\left({\\theta_2}\\right) \\sin\\left({\\theta_2}\\right)\\right)} {\\dot{\\theta_2}}^{2} + {\\left(2 \\, {\\left(l_{1} m_{1} + 3 \\, l_{1} m_{2}\\right)} {\\dot{\\theta_1}}^{2} \\sin\\left({\\theta_1}\\right) + 3 \\, {\\left(g m_{1} + 2 \\, g m_{2}\\right)} \\cos\\left({\\theta_1}\\right) \\sin\\left({\\theta_1}\\right)\\right)} \\cos\\left({\\theta_2}\\right) - {\\left(2 \\, {\\left(l_{1} m_{1} + 3 \\, l_{1} m_{2}\\right)} {\\dot{\\theta_1}}^{2} \\cos\\left({\\theta_1}\\right) + 3 \\, {\\left(g m_{1} + 2 \\, g m_{2}\\right)} \\cos\\left({\\theta_1}\\right)^{2} - g m_{1}\\right)} \\sin\\left({\\theta_2}\\right)}{6 \\, l_{2} m_{2} \\cos\\left({\\theta_1}\\right) \\cos\\left({\\theta_2}\\right) \\sin\\left({\\theta_1}\\right) \\sin\\left({\\theta_2}\\right) - 3 \\, l_{2} m_{2} \\cos\\left({\\theta_1}\\right)^{2} + 3 \\, {\\left(2 \\, l_{2} m_{2} \\cos\\left({\\theta_1}\\right)^{2} - l_{2} m_{2}\\right)} \\cos\\left({\\theta_2}\\right)^{2} - 4 \\, l_{2} m_{1} - 9 \\, l_{2} m_{2}}\n"
     ]
    }
   ],
   "source": [
    "#Coordinates of CoM's\n",
    "x1 = 1/2*l1*sin(theta1)\n",
    "y1 = -1/2*l1*cos(theta1)\n",
    "x2 = l1*sin(theta1) + 1/2*l2*sin(theta2)\n",
    "y2 = -l1*cos(theta1) - 1/2*l2*cos(theta2)\n",
    "\n",
    "Kanchored = 1/2*(1/3*m1*l1^2)*theta1d^2\n",
    "Kfreerot = 1/2*(1/12*m2*l2^2)*theta2d^2\n",
    "freeVSquared = reversemap.apply_to(diff(themap.apply_to(x2, 0), t)^2 + diff(themap.apply_to(y2, 0), t)^2, 0)\n",
    "Kfreelinear = 1/2*m2*freeVSquared\n",
    "\n",
    "Uanchored = m1*g*y1\n",
    "Ufree = m2*g*y2\n",
    "\n",
    "#lagrangian = 1/2*m2*theta1d^2*l1^2 + 1/2*m2*theta2d^2*l2^2 + 1/2*m2*theta1d*theta2d*l1*l2*cos(theta1 - theta2) + 1/6*m1*l1^2*theta1d^2 + g/2*(l1*m1 + 2*m2*l1)*cos(theta1) + g/2*m2*l2*cos(theta2)\n",
    "lagrangian = Kanchored + Kfreerot + Kfreelinear - Uanchored - Ufree\n",
    "dldtheta1d = diff(lagrangian, theta1d)\n",
    "dldtheta1d = themap.apply_to(dldtheta1d, 0)\n",
    "ddtdldtheta1d = diff(dldtheta1d, t)\n",
    "dldtheta1 = diff(lagrangian, theta1)\n",
    "ddtdldtheta1d = reversemap.apply_to(ddtdldtheta1d, 0)\n",
    "\n",
    "lagrangian = 1/2*m2*theta1d^2*l1^2 + 1/2*m2*theta2d^2*l2^2 + 1/2*m2*theta1d*theta2d*l1*l2*cos(theta1 - theta2) + 1/6*m1*l1^2*theta1d^2 + g/2*(l1*m1 + 2*m2*l1)*cos(theta1) + g/2*m2*l2*cos(theta2)\n",
    "dldtheta2d = diff(lagrangian, theta2d)\n",
    "dldtheta2d = themap.apply_to(dldtheta2d, 0)\n",
    "ddtdldtheta2d = diff(dldtheta2d, t)\n",
    "dldtheta2 = diff(lagrangian, theta2)\n",
    "ddtdldtheta2d = reversemap.apply_to(ddtdldtheta2d, 0)\n",
    "\n",
    "\n",
    "result = solve([ddtdldtheta1d == dldtheta1, ddtdldtheta2d == dldtheta2], theta1dd, theta2dd)\n",
    "\n",
    "solution1 = result[0][0]\n",
    "solution2 = result[0][1]\n",
    "simplify(solution1)\n",
    "simplify(solution2)\n",
    "print(latex(solution1.full_simplify()))\n",
    "print(latex(solution2.full_simplify()))"
   ]
  },
  {
   "cell_type": "markdown",
   "metadata": {
    "deletable": true,
    "editable": true
   },
   "source": [
    "$${\\ddot{\\theta_1}} = \\frac{3 \\, {\\left(l_{1} m_{2} {\\dot{\\theta_1}}^{2} \\cos\\left({\\theta_1}\\right) \\sin\\left({\\theta_1}\\right) + 2 \\, {\\left(l_{2} m_{2} \\cos\\left({\\theta_2}\\right) \\sin\\left({\\theta_1}\\right) - l_{2} m_{2} \\cos\\left({\\theta_1}\\right) \\sin\\left({\\theta_2}\\right)\\right)} {\\dot{\\theta_2}}^{2} - {\\left({\\left(2 \\, l_{1} m_{2} \\cos\\left({\\theta_1}\\right)^{2} - l_{1} m_{2}\\right)} {\\dot{\\theta_1}}^{2} + g m_{2} \\cos\\left({\\theta_1}\\right)\\right)} \\cos\\left({\\theta_2}\\right) \\sin\\left({\\theta_2}\\right) - {\\left(2 \\, l_{1} m_{2} {\\dot{\\theta_1}}^{2} \\cos\\left({\\theta_1}\\right) \\sin\\left({\\theta_1}\\right) + g m_{2} \\sin\\left({\\theta_1}\\right)\\right)} \\sin\\left({\\theta_2}\\right)^{2} + 2 \\, {\\left(g m_{1} + 2 \\, g m_{2}\\right)} \\sin\\left({\\theta_1}\\right)\\right)}}{6 \\, l_{1} m_{2} \\cos\\left({\\theta_1}\\right) \\cos\\left({\\theta_2}\\right) \\sin\\left({\\theta_1}\\right) \\sin\\left({\\theta_2}\\right) + 3 \\, l_{1} m_{2} \\cos\\left({\\theta_1}\\right)^{2} - 3 \\, {\\left(2 \\, l_{1} m_{2} \\cos\\left({\\theta_1}\\right)^{2} - l_{1} m_{2}\\right)} \\sin\\left({\\theta_2}\\right)^{2} - 4 \\, l_{1} m_{1} - 12 \\, l_{1} m_{2}} \\\\\n",
    "{\\ddot{\\theta_2}} = -\\frac{3 \\, {\\left(2 \\, l_{2} m_{2} \\cos\\left({\\theta_1}\\right) \\cos\\left({\\theta_2}\\right)^{2} \\sin\\left({\\theta_1}\\right) - l_{2} m_{2} \\cos\\left({\\theta_1}\\right) \\sin\\left({\\theta_1}\\right) - {\\left(2 \\, l_{2} m_{2} \\cos\\left({\\theta_1}\\right)^{2} - l_{2} m_{2}\\right)} \\cos\\left({\\theta_2}\\right) \\sin\\left({\\theta_2}\\right)\\right)} {\\dot{\\theta_2}}^{2} + {\\left(2 \\, {\\left(l_{1} m_{1} + 3 \\, l_{1} m_{2}\\right)} {\\dot{\\theta_1}}^{2} \\sin\\left({\\theta_1}\\right) + 3 \\, {\\left(g m_{1} + 2 \\, g m_{2}\\right)} \\cos\\left({\\theta_1}\\right) \\sin\\left({\\theta_1}\\right)\\right)} \\cos\\left({\\theta_2}\\right) - {\\left(2 \\, {\\left(l_{1} m_{1} + 3 \\, l_{1} m_{2}\\right)} {\\dot{\\theta_1}}^{2} \\cos\\left({\\theta_1}\\right) + 3 \\, {\\left(g m_{1} + 2 \\, g m_{2}\\right)} \\cos\\left({\\theta_1}\\right)^{2} - g m_{1}\\right)} \\sin\\left({\\theta_2}\\right)}{6 \\, l_{2} m_{2} \\cos\\left({\\theta_1}\\right) \\cos\\left({\\theta_2}\\right) \\sin\\left({\\theta_1}\\right) \\sin\\left({\\theta_2}\\right) - 3 \\, l_{2} m_{2} \\cos\\left({\\theta_1}\\right)^{2} + 3 \\, {\\left(2 \\, l_{2} m_{2} \\cos\\left({\\theta_1}\\right)^{2} - l_{2} m_{2}\\right)} \\cos\\left({\\theta_2}\\right)^{2} - 4 \\, l_{2} m_{1} - 9 \\, l_{2} m_{2}}$$"
   ]
  },
  {
   "cell_type": "code",
   "execution_count": 18,
   "metadata": {
    "collapsed": false,
    "deletable": true,
    "editable": true
   },
   "outputs": [
    {
     "name": "stdout",
     "output_type": "stream",
     "text": [
      "t1dd == -3*(l_1*m_2*t1d^2*cos(t1)*cos(t2)*sin(-t1 + t2) + g*m_2*sin(t1)*sin(t2)^2 - 2*(l_2*m_2*cos(t2)*sin(t1) - l_2*m_2*cos(t1)*sin(t2))*t2d^2 - 2*(g*m_1 + 2*g*m_2)*sin(t1) + (l_1*m_2*t1d^2*sin(t1)*sin(-t1 + t2) + g*m_2*cos(t1)*cos(t2))*sin(t2))/(3*l_1*m_2*cos(t1)*cos(-t1 + t2)*cos(t2) + 3*l_1*m_2*cos(-t1 + t2)*sin(t1)*sin(t2) - 12*l_1*m_2*cos(t1)^2 - 12*l_1*m_2*sin(t1)^2 - 4*l_1*m_1)\n",
      "t2dd == (6*l_1*m_2*t1d^2*cos(t1)^2*sin(-t1 + t2) + 6*l_1*m_2*t1d^2*sin(t1)^2*sin(-t1 + t2) + 2*l_1*m_1*t1d^2*sin(-t1 + t2) - 3*(l_2*m_2*cos(-t1 + t2)*cos(t2)*sin(t1) - l_2*m_2*cos(t1)*cos(-t1 + t2)*sin(t2))*t2d^2 - 3*(g*m_1*cos(-t1 + t2) + 2*g*m_2*cos(-t1 + t2))*sin(t1) + 2*(3*g*m_2*cos(t1)^2 + 3*g*m_2*sin(t1)^2 + g*m_1)*sin(t2))/(3*l_2*m_2*cos(t1)*cos(-t1 + t2)*cos(t2) + 3*l_2*m_2*cos(-t1 + t2)*sin(t1)*sin(t2) - 12*l_2*m_2*cos(t1)^2 - 12*l_2*m_2*sin(t1)^2 - 4*l_2*m_1)\n"
     ]
    }
   ],
   "source": [
    "print(solution1)\n",
    "print(solution2)"
   ]
  },
  {
   "cell_type": "code",
   "execution_count": null,
   "metadata": {
    "collapsed": true,
    "deletable": true,
    "editable": true
   },
   "outputs": [],
   "source": []
  }
 ],
 "metadata": {
  "kernelspec": {
   "display_name": "SageMath 8.0",
   "language": "",
   "name": "sagemath"
  },
  "language_info": {
   "codemirror_mode": {
    "name": "ipython",
    "version": 2
   },
   "file_extension": ".py",
   "mimetype": "text/x-python",
   "name": "python",
   "nbconvert_exporter": "python",
   "pygments_lexer": "ipython2",
   "version": "2.7.13"
  }
 },
 "nbformat": 4,
 "nbformat_minor": 2
}
