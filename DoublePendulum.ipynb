{
 "cells": [
  {
   "cell_type": "code",
   "execution_count": 1,
   "metadata": {
    "collapsed": false,
    "deletable": true,
    "editable": true
   },
   "outputs": [],
   "source": [
    "t = var('t')\n",
    "l1 = var('l_1')\n",
    "l2 = var('l_2')\n",
    "m1 = var('m_1')\n",
    "m2 = var('m_2')\n",
    "g = var('g')\n",
    "theta1 = var('theta_1')\n",
    "theta2 = var('theta_2')\n",
    "theta1d = var('theta_1d', latex_name=r'\\dot{\\theta_1}')\n",
    "theta2d = var('theta_2d', latex_name=r'\\dot{\\theta_2}')\n",
    "theta1dd = var('theta_1dd', latex_name=r'\\ddot{\\theta_1}')\n",
    "theta2dd = var('theta_2dd', latex_name=r'\\ddot{\\theta_2}')"
   ]
  },
  {
   "cell_type": "code",
   "execution_count": 11,
   "metadata": {
    "collapsed": false,
    "deletable": true,
    "editable": true,
    "scrolled": false
   },
   "outputs": [
    {
     "name": "stdout",
     "output_type": "stream",
     "text": [
      "{\\ddot{\\theta_1}} = -\\frac{3 \\, {\\left(3 \\, l_{1} m_{2} {\\dot{\\theta_1}}^{2} \\cos\\left(-\\theta_{1} + \\theta_{2}\\right) \\sin\\left(-\\theta_{1} + \\theta_{2}\\right) + 2 \\, l_{2} m_{2} {\\dot{\\theta_2}}^{2} \\sin\\left(-\\theta_{1} + \\theta_{2}\\right) + 3 \\, g m_{2} \\cos\\left(-\\theta_{1} + \\theta_{2}\\right) \\sin\\left(\\theta_{2}\\right) - 2 \\, {\\left(g m_{1} + 2 \\, g m_{2}\\right)} \\sin\\left(\\theta_{1}\\right)\\right)}}{9 \\, l_{1} m_{2} \\cos\\left(-\\theta_{1} + \\theta_{2}\\right)^{2} - 4 \\, l_{1} m_{1} - 12 \\, l_{1} m_{2}}\n",
      "{\\ddot{\\theta_2}} = \\frac{3 \\, {\\left(3 \\, l_{2} m_{2} {\\dot{\\theta_2}}^{2} \\cos\\left(-\\theta_{1} + \\theta_{2}\\right) \\sin\\left(-\\theta_{1} + \\theta_{2}\\right) - 3 \\, {\\left(g m_{1} + 2 \\, g m_{2}\\right)} \\cos\\left(-\\theta_{1} + \\theta_{2}\\right) \\sin\\left(\\theta_{1}\\right) + 2 \\, g m_{1} \\sin\\left(\\theta_{2}\\right) + 6 \\, g m_{2} \\sin\\left(\\theta_{2}\\right) + 2 \\, {\\left(l_{1} m_{1} {\\dot{\\theta_1}}^{2} + 3 \\, l_{1} m_{2} {\\dot{\\theta_1}}^{2}\\right)} \\sin\\left(-\\theta_{1} + \\theta_{2}\\right)\\right)}}{9 \\, l_{2} m_{2} \\cos\\left(-\\theta_{1} + \\theta_{2}\\right)^{2} - 4 \\, l_{2} m_{1} - 12 \\, l_{2} m_{2}}\n"
     ]
    }
   ],
   "source": [
    "ddtdldtheta1d = m2*theta1dd*l1^2 + 1/2*m2*theta2dd*l1*l2*cos(theta1 - theta2) - 1/2*m2*theta2d*l1*l2*sin(theta1 - theta2)*(theta1d - theta2d) + 1/3*m1*l1^2*theta1dd\n",
    "dldtheta1 = -1/2*m2*theta1d*theta2d*l1*l2*sin(theta1 - theta2) - g/2*(l1*m1 + 2*m2*l1)*sin(theta1)\n",
    "ddtdldtheta2d = 1/3*m2*theta2dd*l2^2 + 1/2*m2*theta1dd*l1*l2*cos(theta1 - theta2) - 1/2*m2*theta1d*l1*l2*sin(theta1 - theta2)*(theta1d - theta2d)\n",
    "dldtheta2 = 1/2*m2*theta1d*theta2d*l1*l2*sin(theta1 - theta2) - g/2*m2*l2*sin(theta2)\n",
    "result = solve([ddtdldtheta1d == dldtheta1, ddtdldtheta2d == dldtheta2], theta1dd, theta2dd)\n",
    "solution1 = result[0][0]\n",
    "solution2 = result[0][1]\n",
    "simplify(solution1)\n",
    "simplify(solution2)\n",
    "print(latex(solution1))\n",
    "print(latex(solution2))"
   ]
  },
  {
   "cell_type": "markdown",
   "metadata": {
    "deletable": true,
    "editable": true
   },
   "source": [
    "$${\\ddot{\\theta_1}} = -\\frac{3 \\, {\\left(3 \\, l_{1} m_{2} {\\dot{\\theta_1}}^{2} \\cos\\left(-\\theta_{1} + \\theta_{2}\\right) \\sin\\left(-\\theta_{1} + \\theta_{2}\\right) + 2 \\, l_{2} m_{2} {\\dot{\\theta_2}}^{2} \\sin\\left(-\\theta_{1} + \\theta_{2}\\right) + 3 \\, g m_{2} \\cos\\left(-\\theta_{1} + \\theta_{2}\\right) \\sin\\left(\\theta_{2}\\right) - 2 \\, {\\left(g m_{1} + 2 \\, g m_{2}\\right)} \\sin\\left(\\theta_{1}\\right)\\right)}}{9 \\, l_{1} m_{2} \\cos\\left(-\\theta_{1} + \\theta_{2}\\right)^{2} - 4 \\, l_{1} m_{1} - 12 \\, l_{1} m_{2}}\n",
    "{\\ddot{\\theta_2}} = \\frac{3 \\, {\\left(3 \\, l_{2} m_{2} {\\dot{\\theta_2}}^{2} \\cos\\left(-\\theta_{1} + \\theta_{2}\\right) \\sin\\left(-\\theta_{1} + \\theta_{2}\\right) - 3 \\, {\\left(g m_{1} + 2 \\, g m_{2}\\right)} \\cos\\left(-\\theta_{1} + \\theta_{2}\\right) \\sin\\left(\\theta_{1}\\right) + 2 \\, g m_{1} \\sin\\left(\\theta_{2}\\right) + 6 \\, g m_{2} \\sin\\left(\\theta_{2}\\right) + 2 \\, {\\left(l_{1} m_{1} {\\dot{\\theta_1}}^{2} + 3 \\, l_{1} m_{2} {\\dot{\\theta_1}}^{2}\\right)} \\sin\\left(-\\theta_{1} + \\theta_{2}\\right)\\right)}}{9 \\, l_{2} m_{2} \\cos\\left(-\\theta_{1} + \\theta_{2}\\right)^{2} - 4 \\, l_{2} m_{1} - 12 \\, l_{2} m_{2}}$$"
   ]
  },
  {
   "cell_type": "code",
   "execution_count": null,
   "metadata": {
    "collapsed": true,
    "deletable": true,
    "editable": true
   },
   "outputs": [],
   "source": []
  }
 ],
 "metadata": {
  "kernelspec": {
   "display_name": "SageMath 8.0",
   "language": "",
   "name": "sagemath"
  },
  "language_info": {
   "codemirror_mode": {
    "name": "ipython",
    "version": 2
   },
   "file_extension": ".py",
   "mimetype": "text/x-python",
   "name": "python",
   "nbconvert_exporter": "python",
   "pygments_lexer": "ipython2",
   "version": "2.7.13"
  }
 },
 "nbformat": 4,
 "nbformat_minor": 2
}
