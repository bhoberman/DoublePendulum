{
 "cells": [
  {
   "cell_type": "code",
   "execution_count": 70,
   "metadata": {
    "collapsed": false
   },
   "outputs": [],
   "source": [
    "t = var('t')\n",
    "l1 = var('l_1')\n",
    "l2 = var('l_2')\n",
    "m1 = var('m_1')\n",
    "m2 = var('m_2')\n",
    "g = var('g')\n",
    "theta1 = var('theta_1')\n",
    "theta2 = var('theta_2')\n",
    "theta1d = var('theta_1d', latex_name=r'\\dot{\\theta_1}')\n",
    "theta2d = var('theta_2d', latex_name=r'\\dot{\\theta_2}')\n",
    "theta1dd = var('theta_1dd', latex_name=r'\\ddot{\\theta_1}')\n",
    "theta2dd = var('theta_2dd', latex_name=r'\\ddot{\\theta_2}')"
   ]
  },
  {
   "cell_type": "code",
   "execution_count": 78,
   "metadata": {
    "collapsed": false,
    "scrolled": false
   },
   "outputs": [
    {
     "data": {
      "text/plain": [
       "\\left[\\left[{\\ddot{\\theta_1}} = -\\frac{3 \\, {\\left(2 \\, l_{2}^{2} m_{2} {\\dot{\\theta_2}}^{2} \\sin\\left(-\\theta_{1} + \\theta_{2}\\right) + 3 \\, g l_{2} m_{2} \\cos\\left(-\\theta_{1} + \\theta_{2}\\right) \\sin\\left(\\theta_{2}\\right) + 6 \\, g l_{1} m_{2} \\sin\\left(\\theta_{2}\\right) - 2 \\, {\\left(g l_{2} m_{1} + 2 \\, g l_{2} m_{2}\\right)} \\sin\\left(\\theta_{1}\\right) + 3 \\, {\\left(l_{1} l_{2} m_{2} {\\dot{\\theta_1}}^{2} \\cos\\left(-\\theta_{1} + \\theta_{2}\\right) + 2 \\, l_{1}^{2} m_{2} {\\dot{\\theta_1}}^{2}\\right)} \\sin\\left(-\\theta_{1} + \\theta_{2}\\right)\\right)}}{9 \\, l_{1} l_{2} m_{2} \\cos\\left(-\\theta_{1} + \\theta_{2}\\right)^{2} + 18 \\, l_{1}^{2} m_{2} \\cos\\left(-\\theta_{1} + \\theta_{2}\\right) - 4 \\, l_{1} l_{2} m_{1}}, {\\ddot{\\theta_2}} = \\frac{3 \\, {\\left(3 \\, l_{2} m_{2} {\\dot{\\theta_2}}^{2} \\cos\\left(-\\theta_{1} + \\theta_{2}\\right) \\sin\\left(-\\theta_{1} + \\theta_{2}\\right) + 2 \\, l_{1} m_{1} {\\dot{\\theta_1}}^{2} \\sin\\left(-\\theta_{1} + \\theta_{2}\\right) - 3 \\, {\\left(g m_{1} + 2 \\, g m_{2}\\right)} \\cos\\left(-\\theta_{1} + \\theta_{2}\\right) \\sin\\left(\\theta_{1}\\right) + 2 \\, g m_{1} \\sin\\left(\\theta_{2}\\right)\\right)}}{9 \\, l_{2} m_{2} \\cos\\left(-\\theta_{1} + \\theta_{2}\\right)^{2} + 18 \\, l_{1} m_{2} \\cos\\left(-\\theta_{1} + \\theta_{2}\\right) - 4 \\, l_{2} m_{1}}\\right]\\right]"
      ]
     },
     "execution_count": 78,
     "metadata": {},
     "output_type": "execute_result"
    }
   ],
   "source": [
    "ddtdldtheta1d = 1/2*m2*(2*theta2dd*l1^2 + theta2dd*l1*l2*cos(theta1 - theta2) - theta2d*l1*l2*sin(theta1 - theta2)*(theta1d - theta2d))+1/3*m1*l1^2*theta1dd\n",
    "dldtheta1 = -1/2*m2*theta1d*theta2d*l1*l2*sin(theta1 - theta2) - g/2*(l1*m1 + 2*m2*l1)*sin(theta1)\n",
    "ddtdldtheta2d = 1/2*m2*(1/2*theta2dd*l2^2 + theta1dd*l1*l2*cos(theta1 - theta2) - theta1d*l1*l2*sin(theta1 - theta2)*(theta1d - theta2d)) + 1/12*m2*l2^2*theta2dd\n",
    "dldtheta2 = 1/2*m2*theta1d*theta2d*l1*l2*sin(theta1 - theta2) - g/2*(m2*l2*sin(theta2))\n",
    "result = solve([ddtdldtheta1d == dldtheta1, ddtdldtheta2d == dldtheta2], theta1dd, theta2dd)\n",
    "latex(result)"
   ]
  },
  {
   "cell_type": "markdown",
   "metadata": {},
   "source": [
    "$$\\left[\\left[{\\ddot{\\theta_1}} = -\\frac{3 \\, {\\left(2 \\, l_{2}^{2} m_{2} {\\dot{\\theta_2}}^{2} \\sin\\left(-\\theta_{1} + \\theta_{2}\\right) + 3 \\, g l_{2} m_{2} \\cos\\left(-\\theta_{1} + \\theta_{2}\\right) \\sin\\left(\\theta_{2}\\right) + 6 \\, g l_{1} m_{2} \\sin\\left(\\theta_{2}\\right) - 2 \\, {\\left(g l_{2} m_{1} + 2 \\, g l_{2} m_{2}\\right)} \\sin\\left(\\theta_{1}\\right) + 3 \\, {\\left(l_{1} l_{2} m_{2} {\\dot{\\theta_1}}^{2} \\cos\\left(-\\theta_{1} + \\theta_{2}\\right) + 2 \\, l_{1}^{2} m_{2} {\\dot{\\theta_1}}^{2}\\right)} \\sin\\left(-\\theta_{1} + \\theta_{2}\\right)\\right)}}{9 \\, l_{1} l_{2} m_{2} \\cos\\left(-\\theta_{1} + \\theta_{2}\\right)^{2} + 18 \\, l_{1}^{2} m_{2} \\cos\\left(-\\theta_{1} + \\theta_{2}\\right) - 4 \\, l_{1} l_{2} m_{1}}, {\\ddot{\\theta_2}} = \\frac{3 \\, {\\left(3 \\, l_{2} m_{2} {\\dot{\\theta_2}}^{2} \\cos\\left(-\\theta_{1} + \\theta_{2}\\right) \\sin\\left(-\\theta_{1} + \\theta_{2}\\right) + 2 \\, l_{1} m_{1} {\\dot{\\theta_1}}^{2} \\sin\\left(-\\theta_{1} + \\theta_{2}\\right) - 3 \\, {\\left(g m_{1} + 2 \\, g m_{2}\\right)} \\cos\\left(-\\theta_{1} + \\theta_{2}\\right) \\sin\\left(\\theta_{1}\\right) + 2 \\, g m_{1} \\sin\\left(\\theta_{2}\\right)\\right)}}{9 \\, l_{2} m_{2} \\cos\\left(-\\theta_{1} + \\theta_{2}\\right)^{2} + 18 \\, l_{1} m_{2} \\cos\\left(-\\theta_{1} + \\theta_{2}\\right) - 4 \\, l_{2} m_{1}}\\right]\\right]$$"
   ]
  },
  {
   "cell_type": "code",
   "execution_count": null,
   "metadata": {
    "collapsed": true
   },
   "outputs": [],
   "source": []
  }
 ],
 "metadata": {
  "kernelspec": {
   "display_name": "SageMath 8.0",
   "language": "",
   "name": "sagemath"
  },
  "language_info": {
   "codemirror_mode": {
    "name": "ipython",
    "version": 2
   },
   "file_extension": ".py",
   "mimetype": "text/x-python",
   "name": "python",
   "nbconvert_exporter": "python",
   "pygments_lexer": "ipython2",
   "version": "2.7.13"
  }
 },
 "nbformat": 4,
 "nbformat_minor": 2
}
